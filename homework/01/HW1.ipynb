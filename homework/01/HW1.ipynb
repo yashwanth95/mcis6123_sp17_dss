{
 "cells": [
  {
   "cell_type": "markdown",
   "metadata": {},
   "source": [
    "# Decision Support Systems / Homework 1"
   ]
  },
  {
   "cell_type": "markdown",
   "metadata": {},
   "source": [
    "__This assignment is worth up to 20 POINTS to your grade total if you complete it on time.  Late assignments will lose 15%.__\n",
    "\n",
    "\n",
    "| Points <br/>Possible | Due <br/>Date | Time Commitment <br/>(estimated) |\n",
    "|:---------------:|:--------:|:---------------:|\n",
    "| 20 (each question 2 points each) | Friday, Mar. 03 @ Midnight| 5 hours or less   |\n",
    "\n",
    "* **GRADING:** Grading will be aligned with the completeness of the objectives.\n",
    "\n",
    "* **INDEPENDENT WORK:** Copying, cheating, plagiarism  and academic dishonesty _are not tolerated_ by Univerisity or course policy.  Please see the syllabus for the full departmental and University statement on the academic code of honor."
   ]
  },
  {
   "cell_type": "markdown",
   "metadata": {},
   "source": [
    "## OBJECTIVES \n",
    "\n",
    "* understand data and decision contexts\n",
    "* understand analytics, motivation and scenarios\n",
    "* differentiate between and describe an example of each descriptive, predictive and prescriptive analytics"
   ]
  },
  {
   "cell_type": "markdown",
   "metadata": {},
   "source": [
    "## WHAT TO TURN IN\n",
    "\n",
    "You are being encouraged to turn the assignment in using the provided Jupyter Notebook.  To do so, clone [the course repository](https://git.io/vM0PE) and modify the `HW1.ipynb` file in the `homework/01` directory.  If you do not know how to do this, please ask, or visit one of the many tutorials out there on the basics of using Github and cloning repositories.\n",
    "\n",
    "Turn in a copy of a `.ipynb` file, a PDF or Word Document to Blackboard with the answers to the questions labeled with the &#167; sign."
   ]
  },
  {
   "cell_type": "markdown",
   "metadata": {},
   "source": [
    "## Part 1\n",
    "For this first part we will be exploring the visualization in the Tableau public gallery and the source data for that visualization for the \"The fastest growing companies in America: Who made the 2013 Inc. 5000 List?\":\n",
    "\n",
    "* [Fastest growing companies in America, 2013/Inc. 5000](https://public.tableau.com/en-us/s/gallery/fastest-growing-companies-america) [**visualization**]\n",
    "* [2013/Inc. 5000 source data](http://www.inc.com/inc5000/list/2013/) [**original source data**]\n",
    "\n",
    "To answer the questions below you will need to use **either or both** the visualization and source data.\n",
    "\n",
    "&#167; **Question 1.1**: Review the source data for the visualization.  \n",
    "* Is this data structured or unstructured data?  Please justify your answer.\n",
    "\n",
    "&#167; **Question 1.2**: Take the top 20 companies in the data sorted by descending growth rate.  \n",
    "* Which industries are the fastest growing in 2013 (just the top 3)?  \n",
    "\n",
    "&#167; **Question 1.3**: Take the top 30 companies in the data by sorted by descending growth rate.  \n",
    "* Which state has the highest total count of the fastest growing companies in 2013?  \n",
    "* What is the _average_ growth rate of those companies in that state? \n",
    "* What is the _total revenue_ of those companies in that state?\n",
    "\n",
    "&#167; **Question 1.4**: Using your answers from Question 3,\n",
    "\n",
    "* What industries are represented by those companies?\n",
    "\n",
    "&#167; **Question 1.5**: \n",
    "\n",
    "An investor wants to place some capital into the fastest growing companies with revenues between \\$50m-100m.  \n",
    "\n",
    "* Which would you recommend?  \n",
    "\n",
    "Assume that the growth rates for these companies on your recommendation list continue. \n",
    "\n",
    "* If the investor has \\$10m to invest and asks you to recommend how she allocate that \\$10m, what amount would you recommend  she put on your list of top fastest growing companies with revenues between \\$50m-100m?  (Your answer will look something like: \\$5m: company X, \\$2m: company Y, \\$1: company G, company U, company T, $0: company W.) "
   ]
  },
  {
   "cell_type": "markdown",
   "metadata": {},
   "source": [
    "## Part 2\n",
    "\n",
    "You will be looking at the following data for this part:\n",
    "\n",
    "* [U.S. Department of the Treasury. Internal Revenue Service, Individual Income Tax Filing: Tax Due at Time of Filing [TXDATFL], retrieved from FRED, Federal Reserve Bank of St. Louis; https://fred.stlouisfed.org/series/TXDATFL, February 21, 2017.](https://fred.stlouisfed.org/series/TXDATFL)\n",
    "\n",
    "&#167; **Question 2.1**: Use the dataset above.  \n",
    "* What percent change was there in the _number of returns_ from 2011 to 2013?\n",
    "\n",
    "Use the dataset for taxes paid given here:\n",
    "\n",
    "* [U.S. Department of the Treasury. Internal Revenue Service, Individual Income Tax Filing: Itemized Deductions: Taxes Paid [IMZDTPA], retrieved from FRED, Federal Reserve Bank of St. Louis; https://fred.stlouisfed.org/series/IMZDTPA, February 21, 2017.](https://fred.stlouisfed.org/series/IMZDTPA)\n",
    "\n",
    "\n",
    "&#167; **Question 2.2**: Use the dataset above.\n",
    "\n",
    "In expanding economic times, there is more economic activity and hence more consumption of taxable goods (or so the theory goes).  \n",
    "* Looking at the graph from the data above, which would you say (without looking at other sources) would be times of economic expansion?  Give you answer in ranges of years (e.g. 1991-1996)."
   ]
  },
  {
   "cell_type": "markdown",
   "metadata": {},
   "source": [
    "## Part 3\n",
    "\n",
    "We will be combining the data from part 1 and part 2. \n",
    "\n",
    "\n",
    "&#167; **Question 3.1**:\n",
    "\n",
    "The company [Goal Zero](http://www.inc.com/profile/goal-zero?cid=full500016-list-9) was operating out of [Bluffdale, UT](https://en.wikipedia.org/wiki/Bluffdale%2C_Utah) in 2013, which is a suburb of Salt Lake City, UT.  Assume the questions here are relevant for 2013 and not 2017 as conditions may have changed.\n",
    "\n",
    "* If the company wants to attract talented employees to move to Utah and join their country, what would be a starting salary that might be in keeping with the median income of Bluffdale? HINT: You can use the [US Census Bureau Data](http://www.census.gov/quickfacts/table/AGE135215/00) for 2011-2015.\n",
    "\n",
    "\n",
    "&#167; **Question 3.2**:\n",
    "\n",
    "* What would you recommend as a starting salary offer to a new employee for pre-tax income **if you want to attract employees to purchase a home in the area**?  HINT: explore the median monthly household owner costs with mortgage in the Census (household) data and _assume your pre-tax salary offer is 5 times the monthly median household costs_. Assume also that job experience, etc. do not factor into the hypothetical salary you recommend.\n"
   ]
  },
  {
   "cell_type": "markdown",
   "metadata": {},
   "source": [
    "## Part 4\n",
    "\n",
    "Predictive analytics are an important part of any BI system.  Please review the [lecture notes](https://github.com/kmsaumcis/mcis6123_sp17_dss/tree/master/lecture_notes) for more detailed treatment of the topic.\n",
    "\n",
    "Consider the scenarios above (parts 1 to 3).  You have been put in charge of building a dashboard for the recruitment and retention department of the company.  The dashboard includes the number of current employees, their average years at the company, their performance growth and the average salaries for the area.  \n",
    "\n",
    "&#167; **Question 4.1**:\n",
    "\n",
    "* You are to build a predictive engine into the dashboard.  What other data do you need to consider if the dashboard is intended to help the company project company-wide salary growth for the next 3 years, while also remaining competitive and attractive to its employees."
   ]
  }
 ],
 "metadata": {
  "anaconda-cloud": {},
  "kernelspec": {
   "display_name": "Python [conda root]",
   "language": "python",
   "name": "conda-root-py"
  },
  "language_info": {
   "codemirror_mode": {
    "name": "ipython",
    "version": 2
   },
   "file_extension": ".py",
   "mimetype": "text/x-python",
   "name": "python",
   "nbconvert_exporter": "python",
   "pygments_lexer": "ipython2",
   "version": "2.7.12"
  },
  "toc": {
   "nav_menu": {
    "height": "139px",
    "width": "251px"
   },
   "navigate_menu": true,
   "number_sections": false,
   "sideBar": true,
   "threshold": 4,
   "toc_cell": false,
   "toc_section_display": "block",
   "toc_window_display": false
  }
 },
 "nbformat": 4,
 "nbformat_minor": 0
}
Answers
1.1: 
The data is structured because the information is organized with high degree. When we see the visualization the data given is  in State, Industry and Rankings, and the Source data it is also clearly put into a table where anyone can understand just by reading at it. So this clearly indicates it is a Structured data.
1.2
 the fastest growing industries in 2013 are:
 1.	Consumer products & services
 2.	Government services
 3.	Health
1.3
Answer 1: Texas - 6 companies
Answer 2: 12444.3 % 
Answer 3: $ 2,069,300,000 
1.4
 1.Energy 
 2.Real Estate
 3.Health
 4.Financial services
 5.IT services
 6.Business products & services
1.5
Answer 1:
 1.Dataxu
 2.Wingspan portfolio advisors
 3.Kony
 4.Provider power
 5.Equinox Business solutions
 6.Alex and ani
 7.VRx
 8.Centerplan construction
 9.I.T.Source
 10.Cloud Sherpas
 Assuming that the growth rates for these companies on the recommendation list continue.
 Answer 2:
 Investment idea
 Dataxu – $ 4 million
 Wingspan Portfolio advisors - $ 3 million
 Kony -  $ 2 million
 Provider power - $ 1 million
2.1:
11.8990% change
2.2: 
 2003 - 2007 and 2009 - 2013	
3.1:
 Starting salary - $53,889
3.2:
 $ 89520/year
4.1:
We can consider the below factors also to get a good projection on how we are heading to..
 1.Resignation rates by area
 2.Appraisal rating-to-salary ratio
 3.Gender mix
 4.Cost of hire - i.e., recruiter fees , Advertisement fees for hiring


